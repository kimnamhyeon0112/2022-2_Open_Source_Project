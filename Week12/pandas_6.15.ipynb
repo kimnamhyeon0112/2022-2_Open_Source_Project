{
 "cells": [
  {
   "cell_type": "code",
   "execution_count": 3,
   "metadata": {},
   "outputs": [
    {
     "name": "stdout",
     "output_type": "stream",
     "text": [
      "              age       fare  survived\n",
      "class                                 \n",
      "First   14.802856  78.380373  0.484026\n",
      "Second  14.001077  13.417399  0.500623\n",
      "Third   12.495398  11.778142  0.428949\n",
      "\n",
      "\n",
      "<class 'pandas.core.frame.DataFrame'>\n",
      "\n",
      "\n",
      "class\n",
      "First     78.380373\n",
      "Second    13.417399\n",
      "Third     11.778142\n",
      "Name: fare, dtype: float64\n",
      "\n",
      "\n",
      "<class 'pandas.core.series.Series'>\n",
      "\n",
      "\n",
      "          age      fare  survived\n",
      "class                            \n",
      "First   79.08  512.3292         1\n",
      "Second  69.33   73.5000         1\n",
      "Third   73.58   69.5500         1\n",
      "      age     fare  survived\n",
      "1    38.0  71.2833         1\n",
      "3    35.0  53.1000         1\n",
      "6    54.0  51.8625         0\n",
      "11   58.0  26.5500         1\n",
      "23   28.0  35.5000         1\n",
      "..    ...      ...       ...\n",
      "871  47.0  52.5542         1\n",
      "872  33.0   5.0000         0\n",
      "879  56.0  83.1583         1\n",
      "887  19.0  30.0000         1\n",
      "889  26.0  30.0000         1\n",
      "\n",
      "[216 rows x 3 columns]\n",
      "         age           sex       fare           survived    \n",
      "         min   max     min   max  min       max      min max\n",
      "class                                                       \n",
      "First   0.92  80.0  female  male  0.0  512.3292        0   1\n",
      "Second  0.67  70.0  female  male  0.0   73.5000        0   1\n",
      "Third   0.42  74.0  female  male  0.0   69.5500        0   1\n",
      "\n",
      "\n",
      "       fare                  age\n",
      "        min       max       mean\n",
      "class                           \n",
      "First   0.0  512.3292  38.233441\n",
      "Second  0.0   73.5000  29.877630\n",
      "Third   0.0   69.5500  25.140620\n"
     ]
    },
    {
     "name": "stderr",
     "output_type": "stream",
     "text": [
      "C:\\Users\\knh30\\AppData\\Local\\Temp\\ipykernel_29228\\2262246409.py:8: FutureWarning: The default value of numeric_only in DataFrameGroupBy.std is deprecated. In a future version, numeric_only will default to False. Either specify numeric_only or select only columns which should be valid for the function.\n",
      "  std_all = grouped.std()\n",
      "C:\\Users\\knh30\\AppData\\Local\\Temp\\ipykernel_29228\\2262246409.py:24: FutureWarning: ['sex'] did not aggregate successfully. If any error is raised this will raise in a future version of pandas. Drop these columns/ops to avoid this warning.\n",
      "  agg_minmax = grouped.agg(min_max)\n"
     ]
    }
   ],
   "source": [
    "import pandas as pd\n",
    "import seaborn as sns\n",
    "\n",
    "titanic = sns.load_dataset('titanic')\n",
    "df = titanic.loc[:, ['age', 'sex', 'class', 'fare', 'survived']]\n",
    "\n",
    "grouped = df.groupby(['class'])\n",
    "std_all = grouped.std()\n",
    "print(std_all)\n",
    "print('\\n')\n",
    "print(type(std_all))\n",
    "print('\\n')\n",
    "\n",
    "# 각 그룹에 대한 fare 열의 표준편차를 집계하여 시리즈로 반환 \n",
    "std_fare = grouped.fare.std()  \n",
    "print(std_fare)\n",
    "print('\\n')\n",
    "print(type(std_fare))\n",
    "print('\\n')\n",
    "\n",
    "def min_max(x):\n",
    "    return x.max() - x.min()\n",
    "\n",
    "agg_minmax = grouped.agg(min_max)\n",
    "print(agg_minmax.head())\n",
    "\n",
    "print(grouped.get_group('First')[['age','fare','survived']])\n",
    "min_max(grouped.get_group('First')[['age','fare','survived']])\n",
    "\n",
    "agg_all = grouped.agg(['min', 'max'])\n",
    "print(agg_all.head())\n",
    "print('\\n')\n",
    "\n",
    "agg_sep = grouped.agg({'fare':['min', 'max'], 'age':'mean'})\n",
    "print(agg_sep.head())"
   ]
  }
 ],
 "metadata": {
  "kernelspec": {
   "display_name": "Python 3.10.8 64-bit (microsoft store)",
   "language": "python",
   "name": "python3"
  },
  "language_info": {
   "codemirror_mode": {
    "name": "ipython",
    "version": 3
   },
   "file_extension": ".py",
   "mimetype": "text/x-python",
   "name": "python",
   "nbconvert_exporter": "python",
   "pygments_lexer": "ipython3",
   "version": "3.10.8"
  },
  "orig_nbformat": 4,
  "vscode": {
   "interpreter": {
    "hash": "8d8dbd52faed4becc147a94e782cf6f62c24520850551e1b80153c6ff2f423d5"
   }
  }
 },
 "nbformat": 4,
 "nbformat_minor": 2
}
