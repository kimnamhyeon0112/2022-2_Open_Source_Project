{
 "cells": [
  {
   "cell_type": "code",
   "execution_count": 1,
   "metadata": {},
   "outputs": [
    {
     "name": "stdout",
     "output_type": "stream",
     "text": [
      "         연월일   당일종가  전일종가     시가     고가     저가     거래량\n",
      "0 2018-07-02  10100   600  10850  10900  10000  137977\n",
      "1 2018-06-29  10700   300  10550  10900   9990  170253\n",
      "2 2018-06-28  10400   500  10900  10950  10150  155769\n",
      "3 2018-06-27  10900   100  10800  11050  10500  133548\n",
      "4 2018-06-26  10800   350  10900  11000  10700   63039 \n",
      "\n",
      "연월일     datetime64[ns]\n",
      "당일종가             int64\n",
      "전일종가             int64\n",
      "시가               int64\n",
      "고가               int64\n",
      "저가               int64\n",
      "거래량              int64\n",
      "dtype: object \n",
      "\n",
      "0    [2018, 07, 02]\n",
      "1    [2018, 06, 29]\n",
      "2    [2018, 06, 28]\n",
      "3    [2018, 06, 27]\n",
      "4    [2018, 06, 26]\n",
      "Name: 연월일, dtype: object \n",
      "\n",
      "          연월일   당일종가  전일종가     시가     고가     저가     거래량     연   월   일\n",
      "0  2018-07-02  10100   600  10850  10900  10000  137977  2018  07  02\n",
      "1  2018-06-29  10700   300  10550  10900   9990  170253  2018  06  29\n",
      "2  2018-06-28  10400   500  10900  10950  10150  155769  2018  06  28\n",
      "3  2018-06-27  10900   100  10800  11050  10500  133548  2018  06  27\n",
      "4  2018-06-26  10800   350  10900  11000  10700   63039  2018  06  26\n"
     ]
    }
   ],
   "source": [
    "import pandas as pd\n",
    "\n",
    "df = pd.read_excel('./주가데이터.xlsx')\n",
    "print(df.head(), '\\n')\n",
    "print(df.dtypes, '\\n')\n",
    "\n",
    "df['연월일'] = df['연월일'].astype('str')\n",
    "dates = df['연월일'].str.split('-')\n",
    "print(dates.head(), '\\n')\n",
    "\n",
    "df['연'] = dates.str.get(0)\n",
    "df['월'] = dates.str.get(1)\n",
    "df['일'] = dates.str.get(2)\n",
    "print(df.head())"
   ]
  }
 ],
 "metadata": {
  "kernelspec": {
   "display_name": "Python 3.10.8 64-bit (microsoft store)",
   "language": "python",
   "name": "python3"
  },
  "language_info": {
   "codemirror_mode": {
    "name": "ipython",
    "version": 3
   },
   "file_extension": ".py",
   "mimetype": "text/x-python",
   "name": "python",
   "nbconvert_exporter": "python",
   "pygments_lexer": "ipython3",
   "version": "3.10.8"
  },
  "orig_nbformat": 4,
  "vscode": {
   "interpreter": {
    "hash": "8d8dbd52faed4becc147a94e782cf6f62c24520850551e1b80153c6ff2f423d5"
   }
  }
 },
 "nbformat": 4,
 "nbformat_minor": 2
}
