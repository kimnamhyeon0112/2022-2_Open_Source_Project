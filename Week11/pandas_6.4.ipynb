{
 "cells": [
  {
   "cell_type": "code",
   "execution_count": 1,
   "metadata": {},
   "outputs": [
    {
     "name": "stdout",
     "output_type": "stream",
     "text": [
      "    age     fare\n",
      "0  22.0   7.2500\n",
      "1  38.0  71.2833\n",
      "2  26.0   7.9250\n",
      "3  35.0  53.1000\n",
      "4  35.0   8.0500\n",
      "\n",
      "\n",
      "age      79.5800\n",
      "fare    512.3292\n",
      "dtype: float64\n",
      "\n",
      "\n",
      "<class 'pandas.core.series.Series'>\n"
     ]
    }
   ],
   "source": [
    "import seaborn as sns\n",
    "\n",
    "titanic = sns.load_dataset('titanic')\n",
    "df = titanic.loc[:, ['age', 'fare']]\n",
    "print(df.head())\n",
    "print('\\n')\n",
    "\n",
    "def min_max(x):\n",
    "    return x.max() - x.min()\n",
    "\n",
    "result = df.apply(min_max)\n",
    "print(result)\n",
    "print('\\n')\n",
    "print(type(result))"
   ]
  }
 ],
 "metadata": {
  "kernelspec": {
   "display_name": "Python 3.10.8 64-bit (microsoft store)",
   "language": "python",
   "name": "python3"
  },
  "language_info": {
   "codemirror_mode": {
    "name": "ipython",
    "version": 3
   },
   "file_extension": ".py",
   "mimetype": "text/x-python",
   "name": "python",
   "nbconvert_exporter": "python",
   "pygments_lexer": "ipython3",
   "version": "3.10.8"
  },
  "orig_nbformat": 4,
  "vscode": {
   "interpreter": {
    "hash": "8d8dbd52faed4becc147a94e782cf6f62c24520850551e1b80153c6ff2f423d5"
   }
  }
 },
 "nbformat": 4,
 "nbformat_minor": 2
}
