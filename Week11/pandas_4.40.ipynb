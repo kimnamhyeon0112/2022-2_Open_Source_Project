{
 "cells": [
  {
   "cell_type": "code",
   "execution_count": 1,
   "metadata": {},
   "outputs": [],
   "source": [
    "import pandas as pd\n",
    "import folium\n",
    "import json\n",
    "\n",
    "file_path='./경기도인구데이터.xlsx'\n",
    "df = pd.read_excel(file_path, index_col='구분')\n",
    "df.columns = df.columns.map(str)\n",
    "geo_path = './경기도행정구역경계.json'\n",
    "\n",
    "try:\n",
    "    geo_data = json.load(open(geo_path, encoding='utf-8'))\n",
    "except:\n",
    "    geo_data = json.load(open(geo_path, encoding='utf-8-sig'))\n",
    "    \n",
    "g_map = folium.Map(location=[37.5502, 126.982], tiles='Stamen Terrain', zoom_start=9)\n",
    "\n",
    "year='2007'\n",
    "\n",
    "folium.Choropleth(geo_data=geo_data,                                        # 지도 데이터 파일 경로\n",
    "                  data=df[year],                                            # 시각화하고자 하는 데이터 파일\n",
    "                  columns=[df.index, df[year]],                             # 지도데이터와 매핑할 값, 시각화 하고자 하는 변수\n",
    "                  fill_color='YlOrRd',                                      # 시각화에 쓰일 색상\n",
    "                  fill_opacity=0.7,                                         # 색상 불투명도\n",
    "                  line_opacity=0.3,                                         # 라인불투명도\n",
    "                  threshold_scale = [10000,100000,300000,500000,700000],    # 척도(사용자 설정)\n",
    "                  key_on='feature.properties.name').add_to(g_map)           # feature.데이터파일.매핑할 값\n",
    "\n",
    "g_map.save('./gyonggi_population_' + year + '.html')"
   ]
  }
 ],
 "metadata": {
  "kernelspec": {
   "display_name": "Python 3.10.8 64-bit (microsoft store)",
   "language": "python",
   "name": "python3"
  },
  "language_info": {
   "codemirror_mode": {
    "name": "ipython",
    "version": 3
   },
   "file_extension": ".py",
   "mimetype": "text/x-python",
   "name": "python",
   "nbconvert_exporter": "python",
   "pygments_lexer": "ipython3",
   "version": "3.10.8"
  },
  "orig_nbformat": 4,
  "vscode": {
   "interpreter": {
    "hash": "8d8dbd52faed4becc147a94e782cf6f62c24520850551e1b80153c6ff2f423d5"
   }
  }
 },
 "nbformat": 4,
 "nbformat_minor": 2
}
