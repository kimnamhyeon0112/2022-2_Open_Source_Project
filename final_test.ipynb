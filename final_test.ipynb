{
 "cells": [
  {
   "cell_type": "markdown",
   "metadata": {},
   "source": [
    "# 11번"
   ]
  },
  {
   "cell_type": "code",
   "execution_count": 2,
   "metadata": {},
   "outputs": [
    {
     "name": "stderr",
     "output_type": "stream",
     "text": [
      "C:\\Users\\knh30\\AppData\\Local\\Temp\\ipykernel_19012\\3856160409.py:13: FutureWarning: The frame.append method is deprecated and will be removed from pandas in a future version. Use pandas.concat instead.\n",
      "  df_a = df1.append(df2)\n"
     ]
    },
    {
     "data": {
      "text/html": [
       "<div>\n",
       "<style scoped>\n",
       "    .dataframe tbody tr th:only-of-type {\n",
       "        vertical-align: middle;\n",
       "    }\n",
       "\n",
       "    .dataframe tbody tr th {\n",
       "        vertical-align: top;\n",
       "    }\n",
       "\n",
       "    .dataframe thead th {\n",
       "        text-align: right;\n",
       "    }\n",
       "</style>\n",
       "<table border=\"1\" class=\"dataframe\">\n",
       "  <thead>\n",
       "    <tr style=\"text-align: right;\">\n",
       "      <th></th>\n",
       "      <th>Name</th>\n",
       "      <th>age</th>\n",
       "      <th>s1</th>\n",
       "      <th>s2</th>\n",
       "    </tr>\n",
       "  </thead>\n",
       "  <tbody>\n",
       "    <tr>\n",
       "      <th>0</th>\n",
       "      <td>Cha</td>\n",
       "      <td>18.0</td>\n",
       "      <td>4.5</td>\n",
       "      <td>NaN</td>\n",
       "    </tr>\n",
       "    <tr>\n",
       "      <th>0</th>\n",
       "      <td>Cha</td>\n",
       "      <td>NaN</td>\n",
       "      <td>3.8</td>\n",
       "      <td>4.4</td>\n",
       "    </tr>\n",
       "    <tr>\n",
       "      <th>1</th>\n",
       "      <td>Cha</td>\n",
       "      <td>NaN</td>\n",
       "      <td>4.2</td>\n",
       "      <td>2.2</td>\n",
       "    </tr>\n",
       "    <tr>\n",
       "      <th>2</th>\n",
       "      <td>Jang</td>\n",
       "      <td>NaN</td>\n",
       "      <td>2.8</td>\n",
       "      <td>4.9</td>\n",
       "    </tr>\n",
       "  </tbody>\n",
       "</table>\n",
       "</div>"
      ],
      "text/plain": [
       "   Name   age   s1   s2\n",
       "0   Cha  18.0  4.5  NaN\n",
       "0   Cha   NaN  3.8  4.4\n",
       "1   Cha   NaN  4.2  2.2\n",
       "2  Jang   NaN  2.8  4.9"
      ]
     },
     "execution_count": 2,
     "metadata": {},
     "output_type": "execute_result"
    }
   ],
   "source": [
    "import pandas as pd\n",
    "\n",
    "df1 = {'Name': ['Cha'],\n",
    "       'age': [18],\n",
    "       's1': [4.5]}\n",
    "df1 = pd.DataFrame(df1)\n",
    "\n",
    "df2 = {'Name': ['Cha', 'Cha', 'Jang'],\n",
    "       's1': [3.8, 4.2, 2.8],\n",
    "       's2': [4.4, 2.2, 4.9]}\n",
    "df2 = pd.DataFrame(df2)\n",
    "\n",
    "df_a = df1.append(df2)\n",
    "df_c = pd.concat([df1, df2], axis=0)\n",
    "df_m = df1.merge(df2, on='Name')\n",
    "df_c.head(len(df_c))"
   ]
  },
  {
   "cell_type": "markdown",
   "metadata": {},
   "source": [
    "# 12번"
   ]
  },
  {
   "cell_type": "code",
   "execution_count": 28,
   "metadata": {},
   "outputs": [
    {
     "data": {
      "text/plain": [
       "<matplotlib.collections.PathCollection at 0x1a354c0e710>"
      ]
     },
     "execution_count": 28,
     "metadata": {},
     "output_type": "execute_result"
    },
    {
     "data": {
      "image/png": "[encoded data removed]",
      "text/plain": [
       "<Figure size 640x480 with 2 Axes>"
      ]
     },
     "metadata": {},
     "output_type": "display_data"
    }
   ],
   "source": [
    "import matplotlib.pyplot as plt\n",
    "\n",
    "fig = plt.figure()\n",
    "ax1 = fig.add_subplot(1,2,1)\n",
    "ax2 = fig.add_subplot(1,2,2)\n",
    "s1 = pd.Series([-15, 2, 5, 6, 7, 9, 12, 15, 18, 19, 27])\n",
    "s2 = pd.Series([-10, 3, 5, 6, 8, 9, 12, 14, 18, 19, 38])\n",
    "ax1.boxplot([s1, s2], labels=['S1', 'S2'])\n",
    "ax2.scatter(s1, s2)"
   ]
  },
  {
   "cell_type": "code",
   "execution_count": 29,
   "metadata": {},
   "outputs": [
    {
     "name": "stdout",
     "output_type": "stream",
     "text": [
      "Q1 =  5.5\n",
      "Q2 =  9.0\n",
      "Q3 =  16.5\n",
      "최솟값 =  -11.0\n",
      "최댓값 =  33.0\n"
     ]
    }
   ],
   "source": [
    "median = s1.median()                      \n",
    "lower_quartile = s1.quantile(q=0.25)      \n",
    "upper_quartile = s1.quantile(q=0.75)      \n",
    "\n",
    "iqr = upper_quartile - lower_quartile\n",
    "min = lower_quartile - 1.5*iqr.min()\n",
    "max = upper_quartile + 1.5*iqr.max()\n",
    "\n",
    "print('Q1 = ', lower_quartile)\n",
    "print('Q2 = ', median)\n",
    "print('Q3 = ', upper_quartile)\n",
    "print('최솟값 = ', min)\n",
    "print('최댓값 = ', max)"
   ]
  },
  {
   "cell_type": "code",
   "execution_count": 34,
   "metadata": {},
   "outputs": [
    {
     "name": "stdout",
     "output_type": "stream",
     "text": [
      "Q1 =  5.5\n",
      "Q2 =  9.0\n",
      "Q3 =  16.0\n",
      "최솟값 =  -10.25\n",
      "최댓값 =  31.75\n"
     ]
    }
   ],
   "source": [
    "median = s2.median()                      \n",
    "lower_quartile = s2.quantile(q=0.25)      \n",
    "upper_quartile = s2.quantile(q=0.75)      \n",
    "\n",
    "iqr = upper_quartile - lower_quartile\n",
    "min = lower_quartile - 1.5*iqr.min()\n",
    "max = upper_quartile + 1.5*iqr.max()\n",
    "\n",
    "print('Q1 = ', lower_quartile)\n",
    "print('Q2 = ', median)\n",
    "print('Q3 = ', upper_quartile)\n",
    "print('최솟값 = ', min)\n",
    "print('최댓값 = ', max)"
   ]
  },
  {
   "cell_type": "markdown",
   "metadata": {},
   "source": [
    "# 13번"
   ]
  },
  {
   "cell_type": "code",
   "execution_count": 35,
   "metadata": {},
   "outputs": [
    {
     "name": "stdout",
     "output_type": "stream",
     "text": [
      "0     True\n",
      "1     True\n",
      "2    False\n",
      "3     True\n",
      "4     True\n",
      "5    False\n",
      "6     True\n",
      "7    False\n",
      "dtype: bool\n",
      "2.4\n",
      "2\n"
     ]
    }
   ],
   "source": [
    "import numpy as np\n",
    "\n",
    "tips = {'total_bill': [19.65, 18.64,10.51,16.97,11.17,35.26,12.90,10.77],\n",
    "       'tip': [3.00,1.36, 0,0 ,0 ,0 ,1.10,0 ],\n",
    "       'smoker': ['No','No','No','No','No','No','Yes','No'],\n",
    "       'day': ['Sat','Thur','Sat','Sun','Thur','Sun','Fri','Fri'],\n",
    "       'time': ['Dinner','Lunch','Lunch','Dinner','Dinner','Lunch','Dinner','Lunch'],\n",
    "       'size': [2,3,2,3,2,3,2,2]}\n",
    "tips = pd.DataFrame(tips)\n",
    "\n",
    "f1 = tips['day'].isin(['Thur']) | tips['time'].isin(['Dinner'])\n",
    "num1 = tips['size'].loc[f1,].mean()\n",
    "num2 = tips.loc[(tips.smoker=='No')&(tips.day=='Sun'), 'total_bill'].shape[0]\n",
    "print(f1)\n",
    "print(num1)\n",
    "print(num2)"
   ]
  },
  {
   "cell_type": "code",
   "execution_count": 36,
   "metadata": {},
   "outputs": [
    {
     "data": {
      "text/html": [
       "<div>\n",
       "<style scoped>\n",
       "    .dataframe tbody tr th:only-of-type {\n",
       "        vertical-align: middle;\n",
       "    }\n",
       "\n",
       "    .dataframe tbody tr th {\n",
       "        vertical-align: top;\n",
       "    }\n",
       "\n",
       "    .dataframe thead tr th {\n",
       "        text-align: left;\n",
       "    }\n",
       "\n",
       "    .dataframe thead tr:last-of-type th {\n",
       "        text-align: right;\n",
       "    }\n",
       "</style>\n",
       "<table border=\"1\" class=\"dataframe\">\n",
       "  <thead>\n",
       "    <tr>\n",
       "      <th></th>\n",
       "      <th colspan=\"2\" halign=\"left\">total_bill</th>\n",
       "    </tr>\n",
       "    <tr>\n",
       "      <th>size</th>\n",
       "      <th>2</th>\n",
       "      <th>3</th>\n",
       "    </tr>\n",
       "    <tr>\n",
       "      <th>day</th>\n",
       "      <th></th>\n",
       "      <th></th>\n",
       "    </tr>\n",
       "  </thead>\n",
       "  <tbody>\n",
       "    <tr>\n",
       "      <th>Fri</th>\n",
       "      <td>11.835</td>\n",
       "      <td>NaN</td>\n",
       "    </tr>\n",
       "    <tr>\n",
       "      <th>Sat</th>\n",
       "      <td>15.080</td>\n",
       "      <td>NaN</td>\n",
       "    </tr>\n",
       "    <tr>\n",
       "      <th>Sun</th>\n",
       "      <td>NaN</td>\n",
       "      <td>26.115</td>\n",
       "    </tr>\n",
       "    <tr>\n",
       "      <th>Thur</th>\n",
       "      <td>11.170</td>\n",
       "      <td>18.640</td>\n",
       "    </tr>\n",
       "  </tbody>\n",
       "</table>\n",
       "</div>"
      ],
      "text/plain": [
       "     total_bill        \n",
       "size          2       3\n",
       "day                    \n",
       "Fri      11.835     NaN\n",
       "Sat      15.080     NaN\n",
       "Sun         NaN  26.115\n",
       "Thur     11.170  18.640"
      ]
     },
     "execution_count": 36,
     "metadata": {},
     "output_type": "execute_result"
    }
   ],
   "source": [
    "tips_sub = tips[['total_bill', 'day', 'size']]\n",
    "pt = pd.pivot_table(tips_sub, index=['day'], columns=['size'])\n",
    "pt.head(len(pt))"
   ]
  },
  {
   "cell_type": "code",
   "execution_count": 37,
   "metadata": {},
   "outputs": [
    {
     "data": {
      "text/html": [
       "<div>\n",
       "<style scoped>\n",
       "    .dataframe tbody tr th:only-of-type {\n",
       "        vertical-align: middle;\n",
       "    }\n",
       "\n",
       "    .dataframe tbody tr th {\n",
       "        vertical-align: top;\n",
       "    }\n",
       "\n",
       "    .dataframe thead th {\n",
       "        text-align: right;\n",
       "    }\n",
       "</style>\n",
       "<table border=\"1\" class=\"dataframe\">\n",
       "  <thead>\n",
       "    <tr style=\"text-align: right;\">\n",
       "      <th></th>\n",
       "      <th>X1</th>\n",
       "      <th>X2</th>\n",
       "      <th>Name</th>\n",
       "    </tr>\n",
       "  </thead>\n",
       "  <tbody>\n",
       "    <tr>\n",
       "      <th>0</th>\n",
       "      <td>-2.4</td>\n",
       "      <td>2.6</td>\n",
       "      <td>A</td>\n",
       "    </tr>\n",
       "    <tr>\n",
       "      <th>1</th>\n",
       "      <td>-2.2</td>\n",
       "      <td>3.8</td>\n",
       "      <td>A</td>\n",
       "    </tr>\n",
       "    <tr>\n",
       "      <th>2</th>\n",
       "      <td>-2.0</td>\n",
       "      <td>2.8</td>\n",
       "      <td>A</td>\n",
       "    </tr>\n",
       "    <tr>\n",
       "      <th>3</th>\n",
       "      <td>-1.8</td>\n",
       "      <td>3.2</td>\n",
       "      <td>B</td>\n",
       "    </tr>\n",
       "    <tr>\n",
       "      <th>4</th>\n",
       "      <td>-1.0</td>\n",
       "      <td>3.4</td>\n",
       "      <td>B</td>\n",
       "    </tr>\n",
       "    <tr>\n",
       "      <th>5</th>\n",
       "      <td>-1.0</td>\n",
       "      <td>2.4</td>\n",
       "      <td>B</td>\n",
       "    </tr>\n",
       "    <tr>\n",
       "      <th>6</th>\n",
       "      <td>-0.8</td>\n",
       "      <td>2.0</td>\n",
       "      <td>C</td>\n",
       "    </tr>\n",
       "    <tr>\n",
       "      <th>7</th>\n",
       "      <td>0.0</td>\n",
       "      <td>3.2</td>\n",
       "      <td>C</td>\n",
       "    </tr>\n",
       "    <tr>\n",
       "      <th>8</th>\n",
       "      <td>0.0</td>\n",
       "      <td>3.6</td>\n",
       "      <td>C</td>\n",
       "    </tr>\n",
       "    <tr>\n",
       "      <th>9</th>\n",
       "      <td>0.2</td>\n",
       "      <td>3.0</td>\n",
       "      <td>D</td>\n",
       "    </tr>\n",
       "    <tr>\n",
       "      <th>10</th>\n",
       "      <td>0.3</td>\n",
       "      <td>2.6</td>\n",
       "      <td>D</td>\n",
       "    </tr>\n",
       "    <tr>\n",
       "      <th>11</th>\n",
       "      <td>1.0</td>\n",
       "      <td>2.0</td>\n",
       "      <td>D</td>\n",
       "    </tr>\n",
       "    <tr>\n",
       "      <th>12</th>\n",
       "      <td>1.5</td>\n",
       "      <td>3.2</td>\n",
       "      <td>E</td>\n",
       "    </tr>\n",
       "    <tr>\n",
       "      <th>13</th>\n",
       "      <td>2.0</td>\n",
       "      <td>3.2</td>\n",
       "      <td>E</td>\n",
       "    </tr>\n",
       "    <tr>\n",
       "      <th>14</th>\n",
       "      <td>2.2</td>\n",
       "      <td>2.0</td>\n",
       "      <td>E</td>\n",
       "    </tr>\n",
       "    <tr>\n",
       "      <th>15</th>\n",
       "      <td>2.4</td>\n",
       "      <td>3.8</td>\n",
       "      <td>E</td>\n",
       "    </tr>\n",
       "  </tbody>\n",
       "</table>\n",
       "</div>"
      ],
      "text/plain": [
       "     X1   X2 Name\n",
       "0  -2.4  2.6    A\n",
       "1  -2.2  3.8    A\n",
       "2  -2.0  2.8    A\n",
       "3  -1.8  3.2    B\n",
       "4  -1.0  3.4    B\n",
       "5  -1.0  2.4    B\n",
       "6  -0.8  2.0    C\n",
       "7   0.0  3.2    C\n",
       "8   0.0  3.6    C\n",
       "9   0.2  3.0    D\n",
       "10  0.3  2.6    D\n",
       "11  1.0  2.0    D\n",
       "12  1.5  3.2    E\n",
       "13  2.0  3.2    E\n",
       "14  2.2  2.0    E\n",
       "15  2.4  3.8    E"
      ]
     },
     "execution_count": 37,
     "metadata": {},
     "output_type": "execute_result"
    }
   ],
   "source": [
    "df = { 'X1': [-2.4,-2.2,-2.0,-1.8,-1.0,-1.0,-0.8,0.0,0.0,0.2,0.3,1.0,1.5,2.0,2.2,2.4],\n",
    "       'X2': [2.6,3.8,2.8,3.2,3.4,2.4,2.0,3.2,3.6,3.0,2.6,2.0,3.2,3.2,2.0,3.8],\n",
    "       'Name': ['A','A','A','B','B','B','C','C','C','D','D','D','E','E','E','E']}\n",
    "df = pd.DataFrame(df)\n",
    "df.head(len(df))"
   ]
  },
  {
   "cell_type": "code",
   "execution_count": 38,
   "metadata": {},
   "outputs": [
    {
     "data": {
      "text/plain": [
       "<AxesSubplot: ylabel='Frequency'>"
      ]
     },
     "execution_count": 38,
     "metadata": {},
     "output_type": "execute_result"
    },
    {
     "data": {
      "image/png": "[encoded data removed]",
      "text/plain": [
       "<Figure size 640x480 with 1 Axes>"
      ]
     },
     "metadata": {},
     "output_type": "display_data"
    }
   ],
   "source": [
    "r = pd.Series(list(range(-5, 9)))/2\n",
    "df.plot.hist(alpha=0.5, bins=r)"
   ]
  }
 ],
 "metadata": {
  "kernelspec": {
   "display_name": "Python 3.10.8 64-bit (microsoft store)",
   "language": "python",
   "name": "python3"
  },
  "language_info": {
   "codemirror_mode": {
    "name": "ipython",
    "version": 3
   },
   "file_extension": ".py",
   "mimetype": "text/x-python",
   "name": "python",
   "nbconvert_exporter": "python",
   "pygments_lexer": "ipython3",
   "version": "3.10.8"
  },
  "orig_nbformat": 4,
  "vscode": {
   "interpreter": {
    "hash": "8d8dbd52faed4becc147a94e782cf6f62c24520850551e1b80153c6ff2f423d5"
   }
  }
 },
 "nbformat": 4,
 "nbformat_minor": 2
}
